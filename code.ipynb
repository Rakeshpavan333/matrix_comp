{
 "cells": [
  {
   "cell_type": "code",
   "execution_count": 1,
   "metadata": {},
   "outputs": [],
   "source": [
    "import numpy as np\n",
    "from typing import NamedTuple, Tuple\n",
    "from matplotlib import pyplot as plt\n",
    "from matplotlib.patches import Circle, Arc\n",
    "plt.style.use('bmh')"
   ]
  },
  {
   "cell_type": "code",
   "execution_count": 2,
   "metadata": {},
   "outputs": [],
   "source": [
    "class GaussianMixture(NamedTuple):\n",
    "    \"\"\"Tuple holding a gaussian mixture\"\"\"\n",
    "    mu: np.ndarray  # (K, d) array - each row corresponds to a gaussian component mean\n",
    "    var: np.ndarray  # (K, ) array - each row corresponds to the variance of a component\n",
    "    p: np.ndarray  # (K, ) array = each row corresponds to the weight of a component\n",
    "\n",
    "\n",
    "def init(X: np.ndarray, K: int,\n",
    "         seed: int = 0) -> Tuple[GaussianMixture, np.ndarray]:\n",
    "    \"\"\"Initializes the mixture model with random points as initial\n",
    "    means and uniform assingments\n",
    "\n",
    "    Args:\n",
    "        X: (n, d) array holding the data\n",
    "        K: number of components\n",
    "        seed: random seed\n",
    "\n",
    "    Returns:\n",
    "        mixture: the initialized gaussian mixture\n",
    "        post: (n, K) array holding the soft counts\n",
    "            for all components for all examples\n",
    "\n",
    "    \"\"\"\n",
    "    np.random.seed(seed)\n",
    "    n, _ = X.shape\n",
    "    p = np.ones(K) / K\n",
    "\n",
    "    # select K random points as initial means\n",
    "    mu = X[np.random.choice(n, K, replace=False)]\n",
    "    var = np.zeros(K)\n",
    "    # Compute variance\n",
    "    for j in range(K):\n",
    "        var[j] = ((X - mu[j])**2).mean()\n",
    "\n",
    "    mixture = GaussianMixture(mu, var, p)\n",
    "    post = np.ones((n, K)) / K\n",
    "\n",
    "    return mixture, post\n",
    "\n",
    "def logsumexp(ns):\n",
    "    mx = np.max(ns)\n",
    "    ds = ns - mx\n",
    "    sumOfExp = np.exp(ds).sum()\n",
    "    return mx + np.log(sumOfExp)"
   ]
  },
  {
   "cell_type": "code",
   "execution_count": 3,
   "metadata": {},
   "outputs": [],
   "source": [
    "def estep(X: np.ndarray, mixture: GaussianMixture) -> Tuple[np.ndarray, float]:\n",
    "    \"\"\"E-step: Softly assigns each datapoint to each of the Gaussian distributions\n",
    "\n",
    "    Args:\n",
    "        X: (n, d) array holding the data, with incomplete entries (set to 0)\n",
    "        mixture: the current gaussian mixture\n",
    "\n",
    "    Returns:\n",
    "        np.ndarray: (n, K) array holding the soft counts\n",
    "            for all components for all examples\n",
    "        float: log-likelihood of the assignment\n",
    "\n",
    "    \"\"\"\n",
    "    n, _ = X.shape\n",
    "    K, _ = mixture.mu.shape\n",
    "    post = np.zeros((n, K))\n",
    "\n",
    "    ll = 0\n",
    "    for i in range(n):\n",
    "        mask = (X[i, :] != 0)\n",
    "        for j in range(K):\n",
    "            log_likelihood = log_gaussian(X[i, mask], mixture.mu[j, mask],\n",
    "                                          mixture.var[j])\n",
    "            post[i, j] = np.log(mixture.p[j] + 1e-16) + log_likelihood\n",
    "        total = logsumexp(post[i, :])\n",
    "        post[i, :] = post[i, :] - total\n",
    "        ll += total\n",
    "\n",
    "    return np.exp(post), ll\n",
    "\n",
    "\n",
    "def log_gaussian(x: np.ndarray, mean: np.ndarray, var: float) -> float:\n",
    "    \"\"\"Computes the log probablity of vector x under a normal distribution\n",
    "\n",
    "    Args:\n",
    "        x: (d, ) array holding the vector's coordinates\n",
    "        mean: (d, ) mean of the gaussian\n",
    "        var: variance of the gaussian\n",
    "\n",
    "    Returns:\n",
    "        float: the log probability\n",
    "    \"\"\"\n",
    "    d = len(x)\n",
    "    log_prob = -d / 2.0 * np.log(2 * np.pi * var)\n",
    "    log_prob -= 0.5 * ((x - mean)**2).sum() / var\n",
    "    return log_prob\n",
    "\n",
    "\n",
    "\n",
    "def mstep(X: np.ndarray, post: np.ndarray, mixture: GaussianMixture,\n",
    "          min_variance: float = .25) -> GaussianMixture:\n",
    "    \"\"\"M-step: Updates the Gaussian statistics (p,mu,var) for better fit\n",
    "    of the weighted dataset\n",
    "\n",
    "    Args:\n",
    "        X: (n, d) array holding the data, with incomplete entries (set to 0)\n",
    "        post: (n, K) array holding the soft counts\n",
    "            for all components for all examples\n",
    "        mixture: the current gaussian mixture\n",
    "        min_variance: the minimum variance for each gaussian\n",
    "\n",
    "    Returns:\n",
    "        GaussianMixture: the new gaussian mixture\n",
    "    \"\"\"\n",
    "    n, d = X.shape\n",
    "    _, K = post.shape\n",
    "\n",
    "    n_hat = post.sum(axis=0)\n",
    "    p = n_hat / n\n",
    "\n",
    "    mu = mixture.mu.copy()\n",
    "    var = np.zeros(K)\n",
    "\n",
    "    for j in range(K):\n",
    "        sse, weight = 0, 0\n",
    "        for l in range(d):\n",
    "            mask = (X[:, l] != 0)\n",
    "            n_sum = post[mask, j].sum()\n",
    "            if (n_sum >= 1):\n",
    "                # Updating mean\n",
    "                mu[j, l] = (X[mask, l] @ post[mask, j]) / n_sum\n",
    "            # Computing variance\n",
    "            sse += ((mu[j, l] - X[mask, l])**2) @ post[mask, j]\n",
    "            weight += n_sum\n",
    "        var[j] = sse / weight\n",
    "        if var[j] < min_variance:\n",
    "            var[j] = min_variance\n",
    "\n",
    "    return GaussianMixture(mu, var, p)"
   ]
  },
  {
   "cell_type": "code",
   "execution_count": 4,
   "metadata": {},
   "outputs": [],
   "source": [
    "''' The main algorithm to estimate the parameters/statistics of the Gaussians'''\n",
    "def run(X: np.ndarray, mixture: GaussianMixture,\n",
    "        post: np.ndarray) -> Tuple[GaussianMixture, np.ndarray, float]:\n",
    "    \"\"\"Runs the main algorithm. Iteratively perform E-step \n",
    "                                and M-step until convergence\n",
    "\n",
    "    Args:\n",
    "        X: (n, d) array holding the data\n",
    "        post: (n, K) array holding the soft counts\n",
    "            for all components for all examples\n",
    "\n",
    "    Returns:\n",
    "        GaussianMixture: the new gaussian mixture\n",
    "        np.ndarray: (n, K) array holding the soft counts\n",
    "            for all components for all examples\n",
    "        float: log-likelihood of the current assignment\n",
    "    \"\"\"\n",
    "\n",
    "    prev_ll = None\n",
    "    ll = None\n",
    "    \n",
    "    while (prev_ll is None or ll - prev_ll > 1e-6 * np.abs(ll)):\n",
    "        ''' This algorithm will iteratively run until convergence \n",
    "            The convergence is measured by relative improvement in the \n",
    "            log-likelihood measure of the Gaussians\n",
    "        '''\n",
    "        prev_ll = ll \n",
    "        post, ll = estep(X, mixture) # Perform E-step\n",
    "        mixture = mstep(X, post, mixture) # Perform M-step\n",
    "\n",
    "    return mixture, post, ll"
   ]
  },
  {
   "cell_type": "markdown",
   "metadata": {},
   "source": [
    "#### Predicting the incomplete entries from the calculated Statistics:\n",
    "\n",
    "Let $G_i$ be the $\\mathrm{i^{th}-Gaussian}$ distribution, for $1 \\leq i \\leq K$. Then prediction for the $n^{th}$ missing element is: \n",
    "\n",
    "$$ pred_n = \\sum_{i=1}^{K} \\mathbb{P}(X_n \\in G_i) \\times Mean(G_i)$$\n",
    "\n",
    "\n",
    "where $\\mathbb{P}(X_n \\in G_i)$ is probability that $X_n$ was sampled from $G_i$, and $Mean(G_i)$ is the mean of the $\\mathrm{i^{th}-Gaussian}$. \n",
    "\n",
    "Below code implements this formula to fill each of the missing matrix entries:"
   ]
  },
  {
   "cell_type": "code",
   "execution_count": 5,
   "metadata": {},
   "outputs": [],
   "source": [
    "def fill_matrix(X: np.ndarray, mixture: GaussianMixture) -> np.ndarray:\n",
    "    \"\"\"Fills an incomplete matrix according to \n",
    "    previously estimated Gaussian mixture statistics \n",
    "\n",
    "    Args:\n",
    "        X: (n, d) array of incomplete data (incomplete entries =0)\n",
    "        mixture: a mixture of gaussians\n",
    "\n",
    "    Returns\n",
    "        np.ndarray: a (n, d) array with completed data\n",
    "    \"\"\"\n",
    "    n, d = X.shape\n",
    "    X_pred = X.copy()\n",
    "    K, _ = mixture.mu.shape\n",
    "\n",
    "    for i in range(n):\n",
    "        mask = X[i, :] != 0\n",
    "        mask0 = X[i, :] == 0\n",
    "        post = np.zeros(K)\n",
    "        for j in range(K):\n",
    "            log_likelihood = log_gaussian(X[i, mask], mixture.mu[j, mask],\n",
    "                                          mixture.var[j])\n",
    "            post[j] = np.log(mixture.p[j]) + log_likelihood\n",
    "        post = np.exp(post - logsumexp(post))\n",
    "        X_pred[i, mask0] = np.dot(post, mixture.mu[:, mask0])\n",
    "    return X_pred"
   ]
  },
  {
   "cell_type": "code",
   "execution_count": 6,
   "metadata": {},
   "outputs": [],
   "source": [
    "def plot(X: np.ndarray, mixture: GaussianMixture, post: np.ndarray,\n",
    "         title: str):\n",
    "    \"\"\"Plots the Gaussians and the data points for 2D data\"\"\"\n",
    "    _, K = post.shape\n",
    "\n",
    "    percent = post / post.sum(axis=1).reshape(-1, 1)\n",
    "    fig, ax = plt.subplots()\n",
    "    ax.title.set_text(title)\n",
    "    ax.set_xlim((-20, 20))\n",
    "    ax.set_ylim((-20, 20))\n",
    "    r = 0.75\n",
    "    color = [\"r\", \"b\", \"k\", \"y\", \"m\", \"c\"]\n",
    "    for i, point in enumerate(X):\n",
    "        theta = 0\n",
    "        for j in range(K):\n",
    "            offset = percent[i, j] * 360\n",
    "            arc = Arc(point,\n",
    "                      r,\n",
    "                      r,\n",
    "                      0,\n",
    "                      theta,\n",
    "                      theta + offset,\n",
    "                      edgecolor=color[j])\n",
    "            ax.add_patch(arc)\n",
    "            theta += offset\n",
    "    for j in range(K):\n",
    "        mu = mixture.mu[j]\n",
    "        sigma = np.sqrt(mixture.var[j])\n",
    "        circle = Circle(mu, sigma, color=color[j], fill=False)\n",
    "        ax.add_patch(circle)\n",
    "        legend = \"mu = ({:0.2f}, {:0.2f})\\n stdv = {:0.2f}\".format(\n",
    "            mu[0], mu[1], sigma)\n",
    "        ax.text(mu[0], mu[1], legend)\n",
    "    plt.axis('equal')\n",
    "    plt.xlabel('X axis')\n",
    "    plt.ylabel('Y axis')\n",
    "    plt.show()"
   ]
  },
  {
   "cell_type": "code",
   "execution_count": 7,
   "metadata": {},
   "outputs": [],
   "source": [
    "def rmse(X, Y):\n",
    "    ''' Root mean squared error'''\n",
    "    return np.sqrt(np.mean((X - Y)**2))"
   ]
  },
  {
   "cell_type": "code",
   "execution_count": 8,
   "metadata": {},
   "outputs": [],
   "source": [
    "def missing(data):\n",
    "    ''' Measure the percentage of elements \n",
    "        missing in the data matrix \n",
    "    '''\n",
    "    return 100*(data==0).mean()\n",
    "\n",
    "def run_test():\n",
    "    '''\n",
    "    Estimate the statistics for:\n",
    "        Experimental dataset 1\n",
    "    '''\n",
    "    K = 5 # Number of clusters / classes\n",
    "    seed = 0 # Setting numpy random seed=0\n",
    "    mixture, post = init(X, K, seed)\n",
    "    mixture, post, ll = run(X, mixture, post)\n",
    "    title = \"Plot for Experimental set 1\"\n",
    "    plot(X,mixture,post,title) #PLotting the Gaussians and the data\n",
    "\n",
    "def run_matrix_completion():\n",
    "    '''Evaluating the technique on the Netflix data'''\n",
    "    K = 12\n",
    "    seed = 1\n",
    "    mixture, post = init(X, K, seed)\n",
    "    mixture, post, ll = run(X, mixture, post)\n",
    "    X_pred = fill_matrix(X, mixture)\n",
    "    X_gold = np.loadtxt('netflix_complete.txt')\n",
    "    print(\"RMSE Error:\", rmse(X_gold, X_pred))\n",
    "\n",
    "def Test():\n",
    "    ''' Evaluating the technique on \n",
    "        Experimental dataset 2 '''\n",
    "    X = np.loadtxt(\"test_incomplete.txt\")\n",
    "    X_gold = np.loadtxt(\"test_complete.txt\")\n",
    "    print(\"X_incomplete:\\n\" + str(X)) # Printing the incomplete data matrix\n",
    "                                      # 0's indicate missing entries\n",
    "    K = 5 # Number of Gaussians \n",
    "    n, d = X.shape\n",
    "    seed = 0 # Numpy random seed \n",
    "    print('Missing %:',np.round(missing(X),6))\n",
    "    mixture, _ = init(X, K, seed)\n",
    "    print()\n",
    "    post, ll = estep(X, mixture)\n",
    "\n",
    "    mu, var, p = mstep(X, post, mixture)\n",
    "    (mu, var, p), post, ll = run(X, mixture, post)\n",
    "\n",
    "    X_pred = fill_matrix(X, GaussianMixture(mu, var, p))\n",
    "            # Filling the matrix uing the above computed statistics \n",
    "        \n",
    "    error = rmse(X_gold, X_pred) # Evaluating RMSE error\n",
    "    print(\"X_complete:\\n\" + str(X_gold)) # Printing original complete \n",
    "                                         #  data matrix \n",
    "    print(\"X_pred:\\n\" + str(X_pred)) \n",
    "    print(\"RMSE Error: \" + str(error)) \n"
   ]
  },
  {
   "cell_type": "markdown",
   "metadata": {},
   "source": [
    "### Loading and testing on Experimental Dataset 1\n",
    "\n",
    "Experimental dataset 1 can be found in \"exp_data5.txt\" file. This data set is a set of 2D points (1000 such points) on the cartesian plane, hence can be represented by a 1000 x 2 matrix. It is also to visualize on the 2D cartesian and hence we will use this to demonstrate how the algorithm converges tying to estimate the statistics for the Gaussians.  \n",
    "\n",
    "This dataset was originally contructed by randomly sampling points from 5 different Gaussian distributions."
   ]
  },
  {
   "cell_type": "code",
   "execution_count": 9,
   "metadata": {},
   "outputs": [
    {
     "data": {
      "image/png": "[encoded data removed]",
      "text/plain": [
       "<Figure size 432x288 with 1 Axes>"
      ]
     },
     "metadata": {
      "needs_background": "light"
     },
     "output_type": "display_data"
    }
   ],
   "source": [
    "X = np.loadtxt(\"exp_data5.txt\")\n",
    "run_test()"
   ]
  },
  {
   "cell_type": "markdown",
   "metadata": {},
   "source": [
    "The circles are the different Gaussian distributions. The centre of the circle is the Mean (mu) and the radius of the circle is equal to the Standard Deviation (stdv) of the corresponding Gaussian distribution. \n",
    "\n",
    "All the Gaussians are initialized randomly. "
   ]
  },
  {
   "cell_type": "code",
   "execution_count": 10,
   "metadata": {},
   "outputs": [
    {
     "data": {
      "text/html": [
       "<img src=\"result.gif\">"
      ],
      "text/plain": [
       "<IPython.core.display.HTML object>"
      ]
     },
     "execution_count": 10,
     "metadata": {},
     "output_type": "execute_result"
    }
   ],
   "source": [
    "'''\n",
    "   Displaying a GIF to demonstrate how the Gaussian statistics \n",
    "   iteratively converge to the data points. \n",
    "   Obtained by saving the above plot for iterations from 1 to 30\n",
    "   of the algorithm. \n",
    "'''\n",
    "from IPython.display import HTML\n",
    "HTML('<img src=\"result.gif\">')"
   ]
  },
  {
   "cell_type": "markdown",
   "metadata": {},
   "source": [
    "We can see that after each iteration of the algorithm, the Gaussian statistics (the circles) adjust more and more to the data points. After some iterations (30 in the above case) the algorithm converges. "
   ]
  },
  {
   "cell_type": "markdown",
   "metadata": {},
   "source": [
    "### Plotting Missing(%) vs Mean Absolute error for Experimental dataset 1\n",
    "\n",
    "In this experiment we try to obtain a plot between the percentage of missing data, and the error obtained after recovery (in terms of Mean Absolute Error) for this method. We use the Experimental dataset 1 for this purpose. \n",
    "\n",
    "$$ \\mathrm{Mean Absolute Error} = \\frac{\\sum_{i}^{N} \\mid X_i - Y_i \\mid }{N} $$ "
   ]
  },
  {
   "cell_type": "code",
   "execution_count": 11,
   "metadata": {},
   "outputs": [
    {
     "data": {
      "image/png": "[encoded data removed]",
      "text/plain": [
       "<Figure size 432x288 with 1 Axes>"
      ]
     },
     "metadata": {
      "needs_background": "light"
     },
     "output_type": "display_data"
    }
   ],
   "source": [
    "np.random.seed(0) # Setting random seed \n",
    "sp = []\n",
    "mae = []\n",
    "for spar in [0.1,0.15,0.2,0.25,0.3,0.35,0.4,0.45,0.5,0.55,0.6,0.65,0.7,0.75]:\n",
    "    data = np.loadtxt(\"exp_data5.txt\") # Loading the data\n",
    "    X_gold = np.array(data) # The original complete data\n",
    "\n",
    "    num = 2*len(data)*spar # Number of missing elements \n",
    "\n",
    "    while num>0: # Randomly selecting 'num' elements and setting them 0\n",
    "        i = np.random.randint(0,data.shape[0])\n",
    "        j = np.random.randint(0,data.shape[1])\n",
    "        if data[i][j] > 0:\n",
    "            data[i][j] = 0\n",
    "            num-=1\n",
    "\n",
    "    X= np.array(data) # The incomplete data\n",
    "\n",
    "    K = 5 # Number of Gaussians \n",
    "    seed = 0\n",
    "    mixture, post = init(X, K, seed) #Initializing the statistics\n",
    "    mixture, post, ll = run(X, mixture, post) # Estimating the statistics\n",
    "    X_pred = fill_matrix(X, mixture) # Filling the incomplete matrix \n",
    "                                     # using the above calculated stats\n",
    "    sp.append(100*spar)\n",
    "    mae.append(np.mean(np.abs(X_pred-X_gold)))\n",
    "    \n",
    "plt.plot(sp,mae)\n",
    "plt.title('% Missing vs Error')\n",
    "plt.xlabel('Missing Data (%)')\n",
    "plt.ylabel('Mean Absolute Error')\n",
    "plt.show()"
   ]
  },
  {
   "cell_type": "markdown",
   "metadata": {},
   "source": [
    "As expected, more the missing data, greater the recovery error. "
   ]
  },
  {
   "cell_type": "markdown",
   "metadata": {},
   "source": [
    "### For Experimental data set 2\n",
    "\n",
    "This data set is a small subset of the Netflix version, to demonstrate the input, output of the algorithm. \n",
    "It is a matrix of 20 x 5 dimension. \n",
    "\n",
    "X_incomplete: Is the incomplete data with missing entries (0 indicated missing value) \n",
    "\n",
    "X_complete: This is the original complete data\n",
    "\n",
    "X_pred: The prediction matrix after running our algorithm and filling the matrix. \n",
    "\n",
    "RMSE Error = $\\left( \\frac{\\sum_{i=1}^{N} (X_i - Y_i)^2 }{N}\\right)^{1/2}$"
   ]
  },
  {
   "cell_type": "code",
   "execution_count": 12,
   "metadata": {},
   "outputs": [
    {
     "name": "stdout",
     "output_type": "stream",
     "text": [
      "X_incomplete:\n",
      "[[2. 5. 3. 0. 0.]\n",
      " [3. 5. 0. 4. 3.]\n",
      " [2. 0. 3. 3. 1.]\n",
      " [4. 0. 4. 5. 2.]\n",
      " [3. 4. 0. 0. 4.]\n",
      " [1. 0. 4. 5. 5.]\n",
      " [2. 5. 0. 0. 1.]\n",
      " [3. 0. 5. 4. 3.]\n",
      " [0. 5. 3. 3. 3.]\n",
      " [2. 0. 0. 3. 3.]\n",
      " [3. 4. 3. 3. 3.]\n",
      " [1. 5. 3. 0. 1.]\n",
      " [4. 5. 3. 4. 3.]\n",
      " [1. 4. 0. 5. 2.]\n",
      " [1. 5. 3. 3. 5.]\n",
      " [3. 5. 3. 4. 3.]\n",
      " [3. 0. 0. 4. 2.]\n",
      " [3. 5. 3. 5. 1.]\n",
      " [2. 4. 5. 5. 0.]\n",
      " [2. 5. 4. 4. 2.]]\n",
      "Missing %: 19.0\n",
      "\n",
      "X_complete:\n",
      "[[2. 5. 3. 4. 3.]\n",
      " [3. 5. 3. 4. 3.]\n",
      " [2. 4. 3. 3. 1.]\n",
      " [4. 4. 4. 5. 2.]\n",
      " [3. 4. 4. 4. 4.]\n",
      " [1. 5. 4. 5. 5.]\n",
      " [2. 5. 4. 5. 1.]\n",
      " [3. 4. 5. 4. 3.]\n",
      " [3. 5. 3. 3. 3.]\n",
      " [2. 5. 3. 3. 3.]\n",
      " [3. 4. 3. 3. 3.]\n",
      " [1. 5. 3. 5. 1.]\n",
      " [4. 5. 3. 4. 3.]\n",
      " [1. 4. 3. 5. 2.]\n",
      " [1. 5. 3. 3. 5.]\n",
      " [3. 5. 3. 4. 3.]\n",
      " [3. 5. 4. 4. 2.]\n",
      " [3. 5. 3. 5. 1.]\n",
      " [2. 4. 5. 5. 3.]\n",
      " [2. 5. 4. 4. 2.]]\n",
      "X_pred:\n",
      "[[2.         5.         3.         3.94430072 1.5291021 ]\n",
      " [3.         5.         3.11560886 4.         3.        ]\n",
      " [2.         4.99001402 3.         3.         1.        ]\n",
      " [4.         4.21254903 4.         5.         2.        ]\n",
      " [3.         4.         3.18503123 3.64288289 4.        ]\n",
      " [1.         4.99965652 4.         5.         5.        ]\n",
      " [2.         5.         3.16507367 4.01202234 1.        ]\n",
      " [3.         4.21314223 5.         4.         3.        ]\n",
      " [2.99360835 5.         3.         3.         3.        ]\n",
      " [2.         4.6344124  3.16745754 3.         3.        ]\n",
      " [3.         4.         3.         3.         3.        ]\n",
      " [1.         5.         3.         4.00011263 1.        ]\n",
      " [4.         5.         3.         4.         3.        ]\n",
      " [1.         4.         4.50283802 5.         2.        ]\n",
      " [1.         5.         3.         3.         5.        ]\n",
      " [3.         5.         3.         4.         3.        ]\n",
      " [3.         4.40676172 4.03609658 4.         2.        ]\n",
      " [3.         5.         3.         5.         1.        ]\n",
      " [2.         4.         5.         5.         2.30793523]\n",
      " [2.         5.         4.         4.         2.        ]]\n",
      "RMSE Error: 0.3157193993270509\n"
     ]
    }
   ],
   "source": [
    "Test()"
   ]
  },
  {
   "cell_type": "markdown",
   "metadata": {},
   "source": [
    "### Testing on the NetFlix dataset \n",
    "The dataset provides movie rating for 1200 different movies by 1200 different Netflix users. \n",
    "Hence it is a 1200 x 1200 matrix. (This is a subset of the orignal Netflix Prize challenge 2009 which has rating information for millions of users on thousands of movies)\n",
    "\n",
    "The \"netflix_incomplete.txt\" dataset is the incomplete version of the this dataset (with around 23% missing entries). And \"netflix_complete.txt\" is the complete version to be used for measuring the error. \n",
    "\n",
    "RMSE Error = $\\left( \\frac{\\sum_{i=1}^{N} (X_i - Y_i)^2 }{N}\\right)^{1/2}$"
   ]
  },
  {
   "cell_type": "code",
   "execution_count": 13,
   "metadata": {},
   "outputs": [
    {
     "name": "stdout",
     "output_type": "stream",
     "text": [
      "Missing %: 22.793889\n",
      "RMSE Error: 0.4804908505400682\n"
     ]
    }
   ],
   "source": [
    "X = np.loadtxt(\"netflix_incomplete.txt\")\n",
    "print('Missing %:',np.round(missing(X),6))\n",
    "run_matrix_completion()   # Takes about 1-2 mins to run"
   ]
  }
 ],
 "metadata": {
  "kernelspec": {
   "display_name": "Python 3",
   "language": "python",
   "name": "python3"
  },
  "language_info": {
   "codemirror_mode": {
    "name": "ipython",
    "version": 3
   },
   "file_extension": ".py",
   "mimetype": "text/x-python",
   "name": "python",
   "nbconvert_exporter": "python",
   "pygments_lexer": "ipython3",
   "version": "3.8.2"
  }
 },
 "nbformat": 4,
 "nbformat_minor": 4
}
